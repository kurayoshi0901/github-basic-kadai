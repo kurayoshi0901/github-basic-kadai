{
  "nbformat": 4,
  "nbformat_minor": 0,
  "metadata": {
    "colab": {
      "provenance": []
    },
    "kernelspec": {
      "name": "python3",
      "display_name": "Python 3"
    },
    "language_info": {
      "name": "python"
    }
  },
  "cells": [
    {
      "cell_type": "code",
      "execution_count": null,
      "metadata": {
        "colab": {
          "base_uri": "https://localhost:8080/",
          "height": 36
        },
        "id": "4YREFTu3OOZQ",
        "outputId": "bfd662fa-73d9-418c-f515-4869cd79ed32"
      },
      "outputs": [
        {
          "output_type": "execute_result",
          "data": {
            "text/plain": [
              "'\\n課題\\nクォーテーション\\n練習\\n'"
            ],
            "application/vnd.google.colaboratory.intrinsic+json": {
              "type": "string"
            }
          },
          "metadata": {},
          "execution_count": 2
        }
      ],
      "source": [
        "#実践1: クォーテーションを用いて3行コメントしてみましょう\n",
        "\n",
        "'''\n",
        "課題\n",
        "クォーテーション\n",
        "練習\n",
        "'''"
      ]
    },
    {
      "cell_type": "code",
      "source": [
        "#実践2: 実際に何かしらの数値と文字を含めてprintしてみましょう\n",
        "\n",
        "print(\"2024新年\")"
      ],
      "metadata": {
        "colab": {
          "base_uri": "https://localhost:8080/"
        },
        "id": "A-JTB4cJO2us",
        "outputId": "185add4f-3677-4ea3-c089-9a83b64abe2b"
      },
      "execution_count": null,
      "outputs": [
        {
          "output_type": "stream",
          "name": "stdout",
          "text": [
            "2024新年\n"
          ]
        }
      ]
    },
    {
      "cell_type": "code",
      "source": [
        "#実践3: 以下の文章を出力してください。その際、数値は+とstrを用いて文字列へ変換してください→10から1を引くと9になります。\n",
        "print(str(10)+\"から\"+str(1)+\"を引くと\"+str(9)+\"になります。\")"
      ],
      "metadata": {
        "id": "alh-JQMFQTkJ",
        "colab": {
          "base_uri": "https://localhost:8080/"
        },
        "outputId": "8c5716a7-4e8b-45d6-9a23-a53d398a5ba0"
      },
      "execution_count": null,
      "outputs": [
        {
          "output_type": "stream",
          "name": "stdout",
          "text": [
            "10から1を引くと9になります。\n"
          ]
        }
      ]
    },
    {
      "cell_type": "code",
      "source": [
        "#実践4: 以下の100と30を変数に格納し、以下の結果を出力してください。その際、fを用いてください。\n",
        "variable_number1 = 100\n",
        "variable_number2 = 30\n",
        "print(f\"{variable_number1}\")\n",
        "print(f\"{variable_number2}\")"
      ],
      "metadata": {
        "id": "E6K7_UmhQhZm",
        "colab": {
          "base_uri": "https://localhost:8080/"
        },
        "outputId": "dde30302-2c48-4db3-932f-3bc4943465e2"
      },
      "execution_count": null,
      "outputs": [
        {
          "output_type": "stream",
          "name": "stdout",
          "text": [
            "100\n",
            "30\n"
          ]
        }
      ]
    },
    {
      "cell_type": "code",
      "source": [
        "#実践5: 以下をスネークケースで変数名定義してください\n",
        "#家族の人数\n",
        "Familiy_number = 1\n",
        "\n",
        "#算数の点数\n",
        "Arithmetic_number = 2\n",
        "\n",
        "#子供の名前\n",
        "Children_number = 3\n"
      ],
      "metadata": {
        "id": "7gmhJZmTQlFx"
      },
      "execution_count": null,
      "outputs": []
    },
    {
      "cell_type": "code",
      "source": [
        "'''実践6:以下の処理をgithubにアップロードする\n",
        "　3つの変数を用いて文字列と数値２つを代入する\n",
        "　f-string(printで用いたf)を用いてすべてをアンダーバーで結合した結果を出力する'''\n",
        "\n",
        "#家族の人数\n",
        "Familiy_number = 1\n",
        "\n",
        "#算数の点数\n",
        "Arithmetic_number = 2\n",
        "\n",
        "#子供の名前\n",
        "Children_number = 3\n",
        "\n",
        "print(f\"{Familiy_number}_{Arithmetic_number}_{Children_number}\")\n"
      ],
      "metadata": {
        "id": "zhhpVyIzQn3G",
        "colab": {
          "base_uri": "https://localhost:8080/"
        },
        "outputId": "fdef86ee-fee0-4f42-8937-0915695bcbe2"
      },
      "execution_count": null,
      "outputs": [
        {
          "output_type": "stream",
          "name": "stdout",
          "text": [
            "1_2_3\n"
          ]
        }
      ]
    },
    {
      "cell_type": "code",
      "source": [
        "'''実践7:以下の処理をgithubにアップロードする\n",
        "　変数に四則演算の結果を格納する(varA1～VarA5とする, ただし適切な名前に変更すること)\n",
        "　変数に四則演算の何を実施するか文字列で格納する(varBとする, ただし適切な名前に変更すること)\n",
        "　→ fを用いて\"加算の結果は40です\"のように出力する。加算や結果の数値は変数で出力すること'''\n",
        "\n",
        "Japanese_score = 10\n",
        "Mathematic_score = 9\n",
        "Scientific_score = 8\n",
        "English_score = 7\n",
        "Social_studies_score = 16\n",
        "\n",
        "Total_score =  Japanese_score + Mathematic_score + Scientific_score + English_score + Social_studies_score\n",
        "print(f\"加算の結果は{Total_score}です\")"
      ],
      "metadata": {
        "id": "5Dn-Tf6SQuzi",
        "colab": {
          "base_uri": "https://localhost:8080/"
        },
        "outputId": "97a708d7-0ae9-4bd7-d153-4b91b62aa037"
      },
      "execution_count": null,
      "outputs": [
        {
          "output_type": "stream",
          "name": "stdout",
          "text": [
            "加算の結果は50です\n"
          ]
        }
      ]
    }
  ]
}