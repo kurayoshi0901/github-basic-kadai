{
  "nbformat": 4,
  "nbformat_minor": 0,
  "metadata": {
    "colab": {
      "provenance": []
    },
    "kernelspec": {
      "name": "python3",
      "display_name": "Python 3"
    },
    "language_info": {
      "name": "python"
    }
  },
  "cells": [
    {
      "cell_type": "code",
      "execution_count": 4,
      "metadata": {
        "colab": {
          "base_uri": "https://localhost:8080/"
        },
        "id": "DVU-ROueL0Ep",
        "outputId": "0a368fbf-2c34-4a3a-e40e-e1bf299a029b"
      },
      "outputs": [
        {
          "output_type": "stream",
          "name": "stdout",
          "text": [
            "75.0cm²\n"
          ]
        }
      ],
      "source": [
        "上辺 = 10\n",
        "下辺 = 20\n",
        "高さ = 5\n",
        "単位 = \"cm²\"\n",
        "台形の面積 = (上辺 + 下辺) * 高さ / 2\n",
        "\n",
        "\n",
        "print(str(台形の面積) + 単位 )"
      ]
    }
  ]
}