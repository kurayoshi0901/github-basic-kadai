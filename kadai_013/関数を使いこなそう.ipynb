{
  "nbformat": 4,
  "nbformat_minor": 0,
  "metadata": {
    "colab": {
      "provenance": []
    },
    "kernelspec": {
      "name": "python3",
      "display_name": "Python 3"
    },
    "language_info": {
      "name": "python"
    }
  },
  "cells": [
    {
      "cell_type": "code",
      "execution_count": 2,
      "metadata": {
        "colab": {
          "base_uri": "https://localhost:8080/"
        },
        "id": "17aTG4lL0dh-",
        "outputId": "cbbda24f-6d52-43ed-de4b-8739cedca26b"
      },
      "outputs": [
        {
          "output_type": "stream",
          "name": "stdout",
          "text": [
            "1080.0円\n"
          ]
        }
      ],
      "source": [
        "def product_price( product,fee_ratio):\n",
        "    total_price = product * (1 + fee_ratio)\n",
        "    print(f\"{total_price}円\")\n",
        "product_price(1000, 0.08)"
      ]
    }
  ]
}