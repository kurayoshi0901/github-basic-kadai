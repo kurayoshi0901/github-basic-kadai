{
  "nbformat": 4,
  "nbformat_minor": 0,
  "metadata": {
    "colab": {
      "provenance": []
    },
    "kernelspec": {
      "name": "python3",
      "display_name": "Python 3"
    },
    "language_info": {
      "name": "python"
    }
  },
  "cells": [
    {
      "cell_type": "code",
      "execution_count": null,
      "metadata": {
        "colab": {
          "base_uri": "https://localhost:8080/"
        },
        "id": "Kl7HYXMiXm7W",
        "outputId": "2b8cd46f-e303-4b67-c605-3c38c20cf78e"
      },
      "outputs": [
        {
          "output_type": "stream",
          "name": "stdout",
          "text": [
            "太郎\n",
            "27\n",
            "次郎\n",
            "33\n"
          ]
        }
      ],
      "source": [
        "class Human:\n",
        "    def __init__(self, name, age):\n",
        "        self.name = name\n",
        "        self.age = age\n",
        "    def show_name_age(self):\n",
        "        print(self.name)\n",
        "        print(self.age)\n",
        "\n",
        "person1 = Human(\"太郎\", 27)\n",
        "person2 = Human(\"次郎\", 33)\n",
        "\n",
        "person1.show_name_age()\n",
        "person2.show_name_age()\n"
      ]
    }
  ]
}